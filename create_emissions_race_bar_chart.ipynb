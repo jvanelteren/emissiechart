{
 "cells": [
  {
   "cell_type": "code",
   "execution_count": null,
   "metadata": {},
   "outputs": [],
   "source": [
    "Met data van de Nederlandse Emissieautoriteit heb ik deze visualisatie 📈 gemaakt van jaarlijkse CO2 uitstoot,\n",
    "\n",
    "\n",
    "\n",
    "Let op wat er met de kolencentrales (zwart) gebeurt. \n",
    "\n",
    "Uiteindelijk willen we al deze balkjes dus naar 0 krijgen, dat wordt nog een hele klus! 💪\n",
    "\n",
    "\n",
    "\n",
    "Tips en verbeteringen welkom. In mei komt data van 2021 beschikbaar.\n",
    "\n",
    "#emissions #climateneutral"
   ]
  },
  {
   "cell_type": "code",
   "execution_count": 2,
   "metadata": {},
   "outputs": [],
   "source": [
    "import pandas as pd\n",
    "import numpy as np\n",
    "\n",
    "def map_columns(df, newcol):\n",
    "    emissie_mapping = pd.read_csv('emissie_mapping.csv', sep=';')\n",
    "    mapping = {k:v for k,v in zip(emissie_mapping['From'], emissie_mapping[newcol])}\n",
    "    return df.rename(columns=mapping)\n",
    "\n",
    "file = 'Emissiecijfers+2013-2020.ods'\n",
    "\n",
    "emissions = pd.read_excel(file, engine='odf')\n",
    "emissions = emissions.T\n",
    "emissions.columns = emissions.loc['Inrichtingsnaam',:]\n",
    "emissions.fillna(0, inplace=True)\n",
    "emissions.drop(0, axis=1,inplace=True)"
   ]
  },
  {
   "cell_type": "code",
   "execution_count": 72,
   "metadata": {},
   "outputs": [
    {
     "name": "stderr",
     "output_type": "stream",
     "text": [
      "C:\\Users\\GEBRUI~1\\AppData\\Local\\Temp/ipykernel_20308/3595173266.py:7: SettingWithCopyWarning: \n",
      "A value is trying to be set on a copy of a slice from a DataFrame.\n",
      "Try using .loc[row_indexer,col_indexer] = value instead\n",
      "\n",
      "See the caveats in the documentation: https://pandas.pydata.org/pandas-docs/stable/user_guide/indexing.html#returning-a-view-versus-a-copy\n",
      "  filtered_emissions[c] = filtered_emissions[c].apply(pd.to_numeric, errors='coerce')\n"
     ]
    },
    {
     "data": {
      "text/plain": [
       "(8, 489)"
      ]
     },
     "execution_count": 72,
     "metadata": {},
     "output_type": "execute_result"
    }
   ],
   "source": [
    "emissions.replace('nan', 0, inplace=True)\n",
    "emissions.replace('NaN', 0, inplace=True)\n",
    "emissions.replace('-', 0, inplace=True)\n",
    "filtered_emissions = emissions[4:]\n",
    "cols = filtered_emissions.columns\n",
    "for c in cols:\n",
    "    filtered_emissions[c] = filtered_emissions[c].apply(pd.to_numeric, errors='coerce')\n",
    "    \n",
    "filtered_emissions.index = filtered_emissions.index.map(lambda x: int(x.replace(' ','')[-4:]))\n",
    "filtered_emissions /= 1000\n",
    "filtered_emissions = filtered_emissions.rename(columns={'Warmte Station Galileïstraat':'Warmte Station Galileistraat'})\n",
    "filtered_emissions.shape"
   ]
  },
  {
   "cell_type": "code",
   "execution_count": 111,
   "metadata": {},
   "outputs": [],
   "source": [
    "# Uniper centrale maasvlakte powerplant 3 is een kolencentrale, er worden sinds 2017 geen emissies meer gemeld. Ik vermoed dat dit komt doordat de emissies zijn samengevoegd onder Uniper Centrale Maasvlakte\n",
    "filtered_emissions['Uniper Centrale Maasvlakte'] += filtered_emissions['Uniper Maasvlakte Powerplant 3']\n",
    "filtered_emissions.drop('Uniper Maasvlakte Powerplant 3', axis=1, inplace=True)\n"
   ]
  },
  {
   "cell_type": "code",
   "execution_count": 218,
   "metadata": {},
   "outputs": [],
   "source": [
    "n_bars = 20\n",
    "period_length_sec = 3\n",
    "fps = 30\n",
    "import bar_chart_race as bcr\n",
    "import matplotlib.pyplot as plt\n",
    "# Set up a figure looking like bar_chart_race's default.\n",
    "# fig, ax = plt.subplots(figsize=(4, 2.5), dpi=144)\n",
    "# ax.set_facecolor('.8')\n",
    "# ax.tick_params(labelsize=8, length=0)\n",
    "# ax.grid(True, axis='x', color='white')\n",
    "# ax.set_axisbelow(True)\n",
    "# [spine.set_visible(False) for spine in ax.spines.values()]\n",
    "# Setting background to a solid color fixes the problem.\n",
    "# fig.patch.set_facecolor('white')\n",
    "def race(df, filename='EmissiesNL', pause=0, width=4, colors='dark12'):\n",
    "    bcr.bar_chart_race(\n",
    "        df=df,\n",
    "        filename=filename+'.mp4',\n",
    "        orientation='h',\n",
    "        sort='desc',\n",
    "        n_bars=n_bars,\n",
    "        fixed_order=False,\n",
    "        fixed_max=False,\n",
    "        steps_per_period=fps * period_length_sec,\n",
    "        interpolate_period=False,\n",
    "        end_period_pause=pause,\n",
    "        period_label={'x': .99, 'y': .25, 'ha': 'right', 'va': 'center', 'size': 8},\n",
    "        # period_fmt='%B %d, %Y',\n",
    "        period_summary_func=lambda v, r: {'x': .99, 'y': .18,\n",
    "                                        's': f'Top {n_bars}: {v.nlargest(n_bars).sum()//1000:.0f} Mton CO2',\n",
    "                                        'ha': 'right', 'size': 8},\n",
    "        period_template='Jaar: {x:.0f}', \n",
    "        \n",
    "        period_length=period_length_sec * 1000,\n",
    "        \n",
    "        perpendicular_bar_func=None, \n",
    "        # colors='dark12',\n",
    "        colors=colors,\n",
    "        title={\n",
    "            'label': f'Per {filename} (Kton CO2 jaarlijks)',\n",
    "            'size': 8,\n",
    "            'color': 'black',\n",
    "            'loc': 'left',\n",
    "            'pad': 8\n",
    "        },\n",
    "        \n",
    "        bar_size=.95, \n",
    "        bar_textposition='inside',\n",
    "        bar_texttemplate='{x:.0f}', \n",
    "        bar_label_font=6, \n",
    "        tick_label_font=6, \n",
    "        tick_template='{x:,.0f}',\n",
    "        shared_fontdict=None, \n",
    "        scale='linear', \n",
    "        fig=None, \n",
    "        writer=None, \n",
    "        bar_kwargs={'alpha': .7},\n",
    "        fig_kwargs={'figsize': (width, 4), 'dpi': 300},\n",
    "        filter_column_colors=False\n",
    "    )"
   ]
  },
  {
   "cell_type": "code",
   "execution_count": 219,
   "metadata": {},
   "outputs": [
    {
     "name": "stdout",
     "output_type": "stream",
     "text": [
      "Uniper Centrale Maasvlakte kolen black\n",
      "Tata Steel IJmuiden bv staal grey\n",
      "Amercentrale kolen black\n",
      "Chemelot chemie blue\n",
      "Shell Nederland Chemie B.V. Pernis raffinaderij yellow\n",
      "Vattenfall Centrale Hemweg kolen black\n",
      "Dow Benelux B.V. chemie blue\n",
      "Vattenfall Velsen gas white\n",
      "Yara Sluiskil B.V. chemie blue\n",
      "ENGIE Energie Centrale Gelderland kolen black\n",
      "Shell Nederland Chemie B.V. Moerdijk chemie blue\n",
      "EPZ Conventional Operations kolen black\n",
      "ESSO Raffinaderij Rotterdam raffinaderij yellow\n",
      "Vattenfall IJmond gas white\n",
      "BP Raffinaderij Rotterdam B.V. raffinaderij yellow\n",
      "ENGIE Eemscentrale gas white\n",
      "Zeeland Refinery N.V. raffinaderij yellow\n",
      "ENGIE Maximacentrale gas white\n",
      "Pergen VOF chemie blue\n",
      "Sloe Centrale B.V. gas white\n",
      "Vattenfall Centrale Diemen gas white\n",
      "Vattenfall Eemsmond gas white\n",
      "Energie Productie Clauscentrale gas white\n",
      "Enecogen gas white\n",
      "Power Plant Rotterdam B.V. gas white\n",
      "RWE Eemshaven Centrale kolen black\n"
     ]
    }
   ],
   "source": [
    "renamed_emissions = map_columns(filtered_emissions, 'Installatie')\n",
    "grouped_emissions = renamed_emissions.groupby(renamed_emissions.columns, axis=1).sum()\n",
    "\n",
    "cols = grouped_emissions.iloc[0,:].T.sort_values(ascending=False).index\n",
    "grouped_emissions = grouped_emissions[cols]\n",
    "type_to_color = {'staal':'grey',\n",
    "                 'chemie': 'blue',\n",
    "                 'kolen':'black',\n",
    "                 'raffinaderij':'yellow',\n",
    "                 'gas':'white',\n",
    "                 'kerncentrale':'red'}\n",
    "\n",
    "order = []\n",
    "colors = []\n",
    "for r in range(len(grouped_emissions)):\n",
    "    cols = grouped_emissions.iloc[r,:].T.sort_values(ascending=False).index[:n_bars]\n",
    "    for c in cols:\n",
    "        if c not in order:\n",
    "            order.append(c)\n",
    "color_mapping = pd.read_csv('colors.csv', sep=';')\n",
    "mapping = {k:v for k,v in zip(color_mapping['Naam'], color_mapping['Type'])}\n",
    "\n",
    "for c in grouped_emissions.columns:\n",
    "    if c in order:\n",
    "        print(c, mapping[c], type_to_color[mapping[c]])\n",
    "        colors.append(type_to_color[mapping[c]])\n",
    "    else:\n",
    "        colors.append('purple')"
   ]
  },
  {
   "cell_type": "code",
   "execution_count": 220,
   "metadata": {},
   "outputs": [],
   "source": [
    "race(grouped_emissions, 'installatie', pause=0, width=6, colors=colors)"
   ]
  },
  {
   "cell_type": "code",
   "execution_count": 221,
   "metadata": {},
   "outputs": [],
   "source": [
    "# Now per company\n",
    "renamed_emissions = map_columns(filtered_emissions, 'Bedrijf')\n",
    "grouped_emissions = renamed_emissions.groupby(renamed_emissions.columns, axis=1).sum()\n",
    "\n"
   ]
  },
  {
   "cell_type": "markdown",
   "metadata": {},
   "source": [
    "We make a few adjudstments where there are joint ventures"
   ]
  },
  {
   "cell_type": "code",
   "execution_count": 222,
   "metadata": {},
   "outputs": [],
   "source": [
    "grouped_emissions['Total'] += round(grouped_emissions['Zeeland Refinery N.V.'] * 0.55)\n",
    "grouped_emissions['LUKoil'] = round(grouped_emissions['Zeeland Refinery N.V.'] * 0.45)\n",
    "grouped_emissions.drop('Zeeland Refinery N.V.', axis=1, inplace=True)\n"
   ]
  },
  {
   "cell_type": "code",
   "execution_count": 223,
   "metadata": {},
   "outputs": [],
   "source": [
    "grouped_emissions['PZEM'] = round(grouped_emissions['Sloe Centrale B.V.'] * 0.50)\n",
    "grouped_emissions['EDF'] = round(grouped_emissions['Sloe Centrale B.V.'] * 0.50)\n",
    "grouped_emissions.drop('Sloe Centrale B.V.', axis=1, inplace=True)\n"
   ]
  },
  {
   "cell_type": "code",
   "execution_count": 224,
   "metadata": {},
   "outputs": [],
   "source": [
    "grouped_emissions['Eneco'] += round(grouped_emissions['Enecogen'] * 0.50)\n",
    "grouped_emissions['Castleton'] += round(grouped_emissions['Enecogen'] * 0.50)\n",
    "grouped_emissions.drop('Enecogen', axis=1, inplace=True)\n",
    " "
   ]
  },
  {
   "cell_type": "code",
   "execution_count": 225,
   "metadata": {},
   "outputs": [],
   "source": [
    "race(grouped_emissions, 'bedrijf', pause=0, width=4, colors=['red'])"
   ]
  },
  {
   "cell_type": "markdown",
   "metadata": {},
   "source": [
    "For further analysis"
   ]
  },
  {
   "cell_type": "code",
   "execution_count": 226,
   "metadata": {},
   "outputs": [],
   "source": [
    "total = grouped_emissions.sum(axis=0).sort_values(ascending=False)\n",
    "annual = grouped_emissions.sum(axis=1)\n",
    "last_year = grouped_emissions.iloc[-1,:].T.sort_values(ascending=False)"
   ]
  },
  {
   "cell_type": "code",
   "execution_count": null,
   "metadata": {},
   "outputs": [],
   "source": []
  },
  {
   "cell_type": "code",
   "execution_count": 217,
   "metadata": {},
   "outputs": [],
   "source": [
    "widthinstallatie = 1800\n",
    "widthbedrijf = 1200\n",
    "overlap = 100\n",
    "total = widthinstallatie + widthbedrijf - overlap\n",
    "height = 1200"
   ]
  },
  {
   "cell_type": "code",
   "execution_count": 179,
   "metadata": {},
   "outputs": [
    {
     "data": {
      "text/plain": [
       "'ffmpeg -i installatie.mp4 -i bedrijf.mp4 -filter_complex \" nullsrc=size=2900x1200 [base];[0:v] setpts=PTS-STARTPTS, scale=1800x1200 [upperleft]; [1:v] setpts=PTS-STARTPTS, scale=1200x1200 [upperright]; [base][upperleft] overlay=shortest=1 [tmp1]; [tmp1][upperright] overlay=x=1700\" -c:v libx264 total.mp4'"
      ]
     },
     "execution_count": 179,
     "metadata": {},
     "output_type": "execute_result"
    }
   ],
   "source": [
    "# Concat the two output files \n",
    "# make sure output file is not in directory otherwise doesnt work from notebook\n",
    "# nullsrc is output size\n",
    "# the two scales are input sizes\n",
    "# the overlay is where number 2 should start\n",
    "f'ffmpeg -i installatie.mp4 -i bedrijf.mp4 -filter_complex \" nullsrc=size={total}x{height} [base];[0:v] setpts=PTS-STARTPTS, scale={widthinstallatie}x{height} [upperleft]; [1:v] setpts=PTS-STARTPTS, scale={widthbedrijf}x{height} [upperright]; [base][upperleft] overlay=shortest=1 [tmp1]; [tmp1][upperright] overlay=x={widthinstallatie-overlap}\" -c:v libx264 total.mp4'"
   ]
  },
  {
   "cell_type": "code",
   "execution_count": null,
   "metadata": {},
   "outputs": [],
   "source": []
  }
 ],
 "metadata": {
  "interpreter": {
   "hash": "b89b5cfaba6639976dc87ff2fec6d58faec662063367e2c229c520fe71072417"
  },
  "kernelspec": {
   "display_name": "Python 3.10.0 64-bit",
   "language": "python",
   "name": "python3"
  },
  "language_info": {
   "codemirror_mode": {
    "name": "ipython",
    "version": 3
   },
   "file_extension": ".py",
   "mimetype": "text/x-python",
   "name": "python",
   "nbconvert_exporter": "python",
   "pygments_lexer": "ipython3",
   "version": "3.10.0"
  },
  "orig_nbformat": 4
 },
 "nbformat": 4,
 "nbformat_minor": 2
}
