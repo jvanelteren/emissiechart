{
 "cells": [
  {
   "cell_type": "code",
   "execution_count": 2,
   "metadata": {},
   "outputs": [],
   "source": [
    "import pandas as pd\n",
    "import numpy as np\n",
    "# https://pypi.org/project/bar-chart-race/\n",
    "# pip install bar_chart_race\n",
    "# pip install git+https://github.com/dexplo/bar_chart_race\n",
    "# pip install odfpy\n",
    "\n",
    "# https://www.cbs.nl/nl-nl/dossier/dossier-broeikasgassen/hoofdcategorieen/hoe-groot-is-onze-broeikasgasuitstoot-wat-is-het-doel-\n",
    "# https://www.emissieautoriteit.nl/onderwerpen/rapportages-en-cijfers-eu-ets/documenten/publicatie/2021/05/31/factsheet-ets-uitstoot-2020\n",
    "# https://www.emissieautoriteit.nl/documenten/publicatie/2021/05/05/ets-uitstoot-2020\n",
    "\n",
    "def map_columns(df, newcol):\n",
    "    emissie_mapping = pd.read_csv('emissie_mapping.csv', sep=';')\n",
    "    mapping = {k:v for k,v in zip(emissie_mapping['From'], emissie_mapping[newcol])}\n",
    "    return df.rename(columns=mapping)\n",
    "\n",
    "file = 'Emissiecijfers+2013-2020.ods'\n",
    "\n",
    "emissions = pd.read_excel(file, engine='odf')\n",
    "emissions = emissions.T\n",
    "emissions.columns = emissions.loc['Inrichtingsnaam',:]\n",
    "emissions.fillna(0, inplace=True)\n",
    "emissions.drop(0, axis=1,inplace=True)"
   ]
  },
  {
   "cell_type": "code",
   "execution_count": 72,
   "metadata": {},
   "outputs": [
    {
     "name": "stderr",
     "output_type": "stream",
     "text": [
      "C:\\Users\\GEBRUI~1\\AppData\\Local\\Temp/ipykernel_20308/3595173266.py:7: SettingWithCopyWarning: \n",
      "A value is trying to be set on a copy of a slice from a DataFrame.\n",
      "Try using .loc[row_indexer,col_indexer] = value instead\n",
      "\n",
      "See the caveats in the documentation: https://pandas.pydata.org/pandas-docs/stable/user_guide/indexing.html#returning-a-view-versus-a-copy\n",
      "  filtered_emissions[c] = filtered_emissions[c].apply(pd.to_numeric, errors='coerce')\n"
     ]
    },
    {
     "data": {
      "text/plain": [
       "(8, 489)"
      ]
     },
     "execution_count": 72,
     "metadata": {},
     "output_type": "execute_result"
    }
   ],
   "source": [
    "emissions.replace('nan', 0, inplace=True)\n",
    "emissions.replace('NaN', 0, inplace=True)\n",
    "emissions.replace('-', 0, inplace=True)\n",
    "filtered_emissions = emissions[4:]\n",
    "cols = filtered_emissions.columns\n",
    "for c in cols:\n",
    "    filtered_emissions[c] = filtered_emissions[c].apply(pd.to_numeric, errors='coerce')\n",
    "    \n",
    "filtered_emissions.index = filtered_emissions.index.map(lambda x: int(x.replace(' ','')[-4:]))\n",
    "filtered_emissions /= 1000\n",
    "filtered_emissions = filtered_emissions.rename(columns={'Warmte Station Galileïstraat':'Warmte Station Galileistraat'})\n",
    "filtered_emissions.shape"
   ]
  },
  {
   "cell_type": "code",
   "execution_count": 111,
   "metadata": {},
   "outputs": [],
   "source": [
    "# Uniper centrale maasvlakte powerplant 3 is een kolencentrale, er worden sinds 2017 geen emissies meer gemeld. Ik vermoed dat dit komt doordat de emissies zijn samengevoegd onder Uniper Centrale Maasvlakte\n",
    "filtered_emissions['Uniper Centrale Maasvlakte'] += filtered_emissions['Uniper Maasvlakte Powerplant 3']\n",
    "filtered_emissions.drop('Uniper Maasvlakte Powerplant 3', axis=1, inplace=True)\n"
   ]
  },
  {
   "cell_type": "code",
   "execution_count": 157,
   "metadata": {},
   "outputs": [],
   "source": [
    "n_bars = 18\n",
    "period_length_sec = 3\n",
    "fps = 30\n",
    "import bar_chart_race as bcr\n",
    "import matplotlib.pyplot as plt\n",
    "# Set up a figure looking like bar_chart_race's default.\n",
    "# fig, ax = plt.subplots(figsize=(4, 2.5), dpi=144)\n",
    "# ax.set_facecolor('.8')\n",
    "# ax.tick_params(labelsize=8, length=0)\n",
    "# ax.grid(True, axis='x', color='white')\n",
    "# ax.set_axisbelow(True)\n",
    "# [spine.set_visible(False) for spine in ax.spines.values()]\n",
    "# Setting background to a solid color fixes the problem.\n",
    "# fig.patch.set_facecolor('white')\n",
    "def race(df, filename='EmissiesNL', pause=0, width=4, colors='dark12'):\n",
    "    bcr.bar_chart_race(\n",
    "        df=df,\n",
    "        filename=filename+'.mp4',\n",
    "        orientation='h',\n",
    "        sort='desc',\n",
    "        n_bars=n_bars,\n",
    "        fixed_order=False,\n",
    "        fixed_max=False,\n",
    "        steps_per_period=fps * period_length_sec,\n",
    "        interpolate_period=False,\n",
    "        end_period_pause=pause,\n",
    "        period_label={'x': .99, 'y': .25, 'ha': 'right', 'va': 'center', 'size': 8},\n",
    "        # period_fmt='%B %d, %Y',\n",
    "        period_summary_func=lambda v, r: {'x': .99, 'y': .18,\n",
    "                                        's': f'Top 10: {v.nlargest(10).sum():.0f} kt CO2',\n",
    "                                        'ha': 'right', 'size': 8},\n",
    "        period_template='Jaar: {x:.0f}', \n",
    "        \n",
    "        period_length=period_length_sec * 1000,\n",
    "        \n",
    "        perpendicular_bar_func=None, \n",
    "        # colors='dark12',\n",
    "        colors=colors,\n",
    "        title={\n",
    "            'label': f'Per {filename}: CO2 jaarlijkse uitstoot (kt)',\n",
    "            'size': 8,\n",
    "            'color': 'black',\n",
    "            'loc': 'left',\n",
    "            'pad': 8\n",
    "        },\n",
    "        \n",
    "        bar_size=.95, \n",
    "        bar_textposition='inside',\n",
    "        bar_texttemplate='{x:.0f}', \n",
    "        bar_label_font=7, \n",
    "        tick_label_font=7, \n",
    "        tick_template='{x:,.0f}',\n",
    "        shared_fontdict=None, \n",
    "        scale='linear', \n",
    "        fig=None, \n",
    "        writer=None, \n",
    "        bar_kwargs={'alpha': .7},\n",
    "        fig_kwargs={'figsize': (width, 4), 'dpi': 300},\n",
    "        filter_column_colors=False\n",
    "    )"
   ]
  },
  {
   "cell_type": "code",
   "execution_count": 158,
   "metadata": {},
   "outputs": [
    {
     "name": "stdout",
     "output_type": "stream",
     "text": [
      "Uniper Centrale Maasvlakte kolen black\n",
      "Tata Steel IJmuiden bv staal grey\n",
      "Amercentrale kolen black\n",
      "Chemelot chemie blue\n",
      "Shell Nederland Chemie B.V. Pernis raffinaderij yellow\n",
      "Vattenfall Centrale Hemweg kolen black\n",
      "Dow Benelux B.V. chemie blue\n",
      "Vattenfall Velsen gas white\n",
      "Yara Sluiskil B.V. chemie blue\n",
      "ENGIE Energie Centrale Gelderland kolen black\n",
      "Shell Nederland Chemie B.V. Moerdijk chemie blue\n",
      "EPZ Conventional Operations kolen black\n",
      "ESSO Raffinaderij Rotterdam raffinaderij yellow\n",
      "Vattenfall IJmond gas white\n",
      "BP Raffinaderij Rotterdam B.V. raffinaderij yellow\n",
      "ENGIE Eemscentrale gas white\n",
      "Zeeland Refinery N.V. raffinaderij yellow\n",
      "ENGIE Maximacentrale gas white\n",
      "Sloe Centrale B.V. gas white\n",
      "Vattenfall Eemsmond gas white\n",
      "Energie Productie Clauscentrale gas white\n",
      "Enecogen gas white\n",
      "Power Plant Rotterdam B.V. kolen black\n",
      "RWE Eemshaven Centrale kolen black\n"
     ]
    }
   ],
   "source": [
    "renamed_emissions = map_columns(filtered_emissions, 'Installatie')\n",
    "grouped_emissions = renamed_emissions.groupby(renamed_emissions.columns, axis=1).sum()\n",
    "\n",
    "cols = grouped_emissions.iloc[0,:].T.sort_values(ascending=False).index\n",
    "grouped_emissions = grouped_emissions[cols]\n",
    "type_to_color = {'staal':'grey',\n",
    "                 'chemie': 'blue',\n",
    "                 'kolen':'black',\n",
    "                 'raffinaderij':'yellow',\n",
    "                 'gas':'white',\n",
    "                 'kerncentrale':'red'}\n",
    "\n",
    "order = []\n",
    "colors = []\n",
    "for r in range(len(grouped_emissions)):\n",
    "    cols = grouped_emissions.iloc[r,:].T.sort_values(ascending=False).index[:n_bars]\n",
    "    for c in cols:\n",
    "        if c not in order:\n",
    "            order.append(c)\n",
    "color_mapping = pd.read_csv('colors.csv', sep=';')\n",
    "mapping = {k:v for k,v in zip(color_mapping['Naam'], color_mapping['Type'])}\n",
    "\n",
    "for c in grouped_emissions.columns:\n",
    "    if c in order:\n",
    "        print(c, mapping[c], type_to_color[mapping[c]])\n",
    "        colors.append(type_to_color[mapping[c]])\n",
    "    else:\n",
    "        colors.append('purple')"
   ]
  },
  {
   "cell_type": "code",
   "execution_count": 159,
   "metadata": {},
   "outputs": [],
   "source": [
    "race(grouped_emissions, 'installatie', pause=0, width=6, colors=colors)"
   ]
  },
  {
   "cell_type": "code",
   "execution_count": 160,
   "metadata": {},
   "outputs": [],
   "source": [
    "# Now per company\n",
    "renamed_emissions = map_columns(filtered_emissions, 'Bedrijf')\n",
    "grouped_emissions = renamed_emissions.groupby(renamed_emissions.columns, axis=1).sum()\n",
    "\n"
   ]
  },
  {
   "cell_type": "markdown",
   "metadata": {},
   "source": [
    "We make a few adjudstments where there are joint ventures"
   ]
  },
  {
   "cell_type": "code",
   "execution_count": 161,
   "metadata": {},
   "outputs": [],
   "source": [
    "grouped_emissions['Total'] += round(grouped_emissions['Zeeland Refinery N.V.'] * 0.55)\n",
    "grouped_emissions['LUKoil'] = round(grouped_emissions['Zeeland Refinery N.V.'] * 0.45)\n",
    "grouped_emissions.drop('Zeeland Refinery N.V.', axis=1, inplace=True)\n"
   ]
  },
  {
   "cell_type": "code",
   "execution_count": 162,
   "metadata": {},
   "outputs": [],
   "source": [
    "grouped_emissions['PZEM'] = round(grouped_emissions['Sloe Centrale B.V.'] * 0.50)\n",
    "grouped_emissions['EDF'] = round(grouped_emissions['Sloe Centrale B.V.'] * 0.50)\n",
    "grouped_emissions.drop('Sloe Centrale B.V.', axis=1, inplace=True)\n"
   ]
  },
  {
   "cell_type": "code",
   "execution_count": 163,
   "metadata": {},
   "outputs": [],
   "source": [
    "grouped_emissions['Eneco'] += round(grouped_emissions['Enecogen'] * 0.50)\n",
    "grouped_emissions['Castleton'] += round(grouped_emissions['Enecogen'] * 0.50)\n",
    "grouped_emissions.drop('Enecogen', axis=1, inplace=True)\n",
    " "
   ]
  },
  {
   "cell_type": "code",
   "execution_count": 164,
   "metadata": {},
   "outputs": [],
   "source": [
    "race(grouped_emissions, 'bedrijf', pause=0, width=4, colors=['red'])"
   ]
  },
  {
   "cell_type": "markdown",
   "metadata": {},
   "source": [
    "For further analysis"
   ]
  },
  {
   "cell_type": "code",
   "execution_count": 165,
   "metadata": {},
   "outputs": [],
   "source": [
    "total = grouped_emissions.sum(axis=0).sort_values(ascending=False)\n",
    "annual = grouped_emissions.sum(axis=1)\n",
    "last_year = grouped_emissions.iloc[-1,:].T.sort_values(ascending=False)"
   ]
  },
  {
   "cell_type": "code",
   "execution_count": null,
   "metadata": {},
   "outputs": [],
   "source": []
  },
  {
   "cell_type": "code",
   "execution_count": 166,
   "metadata": {},
   "outputs": [],
   "source": [
    "widthinstallatie = 1800\n",
    "widthbedrijf = 1200\n",
    "overlap = 100\n",
    "total = widthinstallatie + widthbedrijf - overlap\n",
    "height = 1200"
   ]
  },
  {
   "cell_type": "code",
   "execution_count": 167,
   "metadata": {},
   "outputs": [
    {
     "data": {
      "text/plain": [
       "'ffmpeg -i installatie.mp4 -i bedrijf.mp4 -filter_complex \" nullsrc=size=2900x1200 [base];[0:v] setpts=PTS-STARTPTS, scale=1800x1200 [upperleft]; [1:v] setpts=PTS-STARTPTS, scale=1200x1200 [upperright]; [base][upperleft] overlay=shortest=1 [tmp1]; [tmp1][upperright] overlay=x=1700\" -c:v libx264 total.mp4'"
      ]
     },
     "execution_count": 167,
     "metadata": {},
     "output_type": "execute_result"
    }
   ],
   "source": [
    "f'ffmpeg -i installatie.mp4 -i bedrijf.mp4 -filter_complex \" nullsrc=size={total}x{height} [base];[0:v] setpts=PTS-STARTPTS, scale={widthinstallatie}x{height} [upperleft]; [1:v] setpts=PTS-STARTPTS, scale={widthbedrijf}x{height} [upperright]; [base][upperleft] overlay=shortest=1 [tmp1]; [tmp1][upperright] overlay=x={widthinstallatie-overlap}\" -c:v libx264 total.mp4'"
   ]
  },
  {
   "cell_type": "code",
   "execution_count": 142,
   "metadata": {},
   "outputs": [
    {
     "name": "stderr",
     "output_type": "stream",
     "text": [
      "ffmpeg version N-105398-g2f323b1978-20220129 Copyright (c) 2000-2022 the FFmpeg developers\n",
      "  built with gcc 11.2.0 (crosstool-NG 1.24.0.498_5075e1f)\n",
      "  configuration: --prefix=/ffbuild/prefix --pkg-config-flags=--static --pkg-config=pkg-config --cross-prefix=x86_64-w64-mingw32- --arch=x86_64 --target-os=mingw32 --enable-gpl --enable-version3 --disable-debug --disable-w32threads --enable-pthreads --enable-iconv --enable-libxml2 --enable-zlib --enable-libfreetype --enable-libfribidi --enable-gmp --enable-lzma --enable-fontconfig --enable-libvorbis --enable-opencl --disable-libpulse --enable-libvmaf --disable-libxcb --disable-xlib --enable-amf --enable-libaom --enable-avisynth --enable-libdav1d --enable-libdavs2 --disable-libfdk-aac --enable-ffnvcodec --enable-cuda-llvm --enable-frei0r --enable-libgme --enable-libass --enable-libbluray --enable-libmp3lame --enable-libopus --enable-librist --enable-libtheora --enable-libvpx --enable-libwebp --enable-lv2 --enable-libmfx --enable-libopencore-amrnb --enable-libopencore-amrwb --enable-libopenh264 --enable-libopenjpeg --enable-libopenmpt --enable-librav1e --enable-librubberband --enable-schannel --enable-sdl2 --enable-libsoxr --enable-libsrt --enable-libsvtav1 --enable-libtwolame --enable-libuavs3d --disable-libdrm --disable-vaapi --enable-libvidstab --enable-vulkan --enable-libshaderc --enable-libplacebo --enable-libx264 --enable-libx265 --enable-libxavs2 --enable-libxvid --enable-libzimg --enable-libzvbi --extra-cflags=-DLIBTWOLAME_STATIC --extra-cxxflags= --extra-ldflags=-pthread --extra-ldexeflags= --extra-libs=-lgomp --extra-version=20220129\n",
      "  libavutil      57. 19.100 / 57. 19.100\n",
      "  libavcodec     59. 20.100 / 59. 20.100\n",
      "  libavformat    59. 17.101 / 59. 17.101\n",
      "  libavdevice    59.  5.100 / 59.  5.100\n",
      "  libavfilter     8. 26.101 /  8. 26.101\n",
      "  libswscale      6.  5.100 /  6.  5.100\n",
      "  libswresample   4.  4.100 /  4.  4.100\n",
      "  libpostproc    56.  4.100 / 56.  4.100\n",
      "Input #0, mov,mp4,m4a,3gp,3g2,mj2, from 'installatie.mp4':\n",
      "  Metadata:\n",
      "    major_brand     : isom\n",
      "    minor_version   : 512\n",
      "    compatible_brands: isomiso2avc1mp41\n",
      "    encoder         : Lavf59.17.101\n",
      "  Duration: 00:00:21.03, start: 0.000000, bitrate: 1839 kb/s\n",
      "  Stream #0:0[0x1](und): Video: h264 (High) (avc1 / 0x31637661), yuv420p(progressive), 1800x1200, 1836 kb/s, 30 fps, 30 tbr, 15360 tbn (default)\n",
      "    Metadata:\n",
      "      handler_name    : VideoHandler\n",
      "      vendor_id       : [0][0][0][0]\n",
      "Input #1, mov,mp4,m4a,3gp,3g2,mj2, from 'bedrijf.mp4':\n",
      "  Metadata:\n",
      "    major_brand     : isom\n",
      "    minor_version   : 512\n",
      "    compatible_brands: isomiso2avc1mp41\n",
      "    encoder         : Lavf59.17.101\n",
      "  Duration: 00:00:21.03, start: 0.000000, bitrate: 1118 kb/s\n",
      "  Stream #1:0[0x1](und): Video: h264 (High) (avc1 / 0x31637661), yuv420p(progressive), 1200x1200, 1115 kb/s, 30 fps, 30 tbr, 15360 tbn (default)\n",
      "    Metadata:\n",
      "      handler_name    : VideoHandler\n",
      "      vendor_id       : [0][0][0][0]\n",
      "Stream mapping:\n",
      "  Stream #0:0 (h264) -> setpts:default\n",
      "  Stream #1:0 (h264) -> setpts:default\n",
      "  overlay:default -> Stream #0:0 (libx264)\n",
      "Press [q] to stop, [?] for help\n",
      "[libx264 @ 000001f911ba09c0] using SAR=1/1\n",
      "[libx264 @ 000001f911ba09c0] using cpu capabilities: MMX2 SSE2Fast SSSE3 SSE4.2 AVX FMA3 BMI2 AVX2 AVX512\n",
      "[libx264 @ 000001f911ba09c0] profile High, level 3.1, 4:2:0, 8-bit\n",
      "[libx264 @ 000001f911ba09c0] 264 - core 164 - H.264/MPEG-4 AVC codec - Copyleft 2003-2021 - http://www.videolan.org/x264.html - options: cabac=1 ref=3 deblock=1:0:0 analyse=0x3:0x113 me=hex subme=7 psy=1 psy_rd=1.00:0.00 mixed_ref=1 me_range=16 chroma_me=1 trellis=1 8x8dct=1 cqm=0 deadzone=21,11 fast_pskip=1 chroma_qp_offset=-2 threads=18 lookahead_threads=3 sliced_threads=0 nr=0 decimate=1 interlaced=0 bluray_compat=0 constrained_intra=0 bframes=3 b_pyramid=2 b_adapt=1 b_bias=0 direct=1 weightb=1 open_gop=0 weightp=2 keyint=250 keyint_min=25 scenecut=40 intra_refresh=0 rc_lookahead=40 rc=crf mbtree=1 crf=23.0 qcomp=0.60 qpmin=0 qpmax=69 qpstep=4 ip_ratio=1.40 aq=1:1.00\n",
      "Output #0, mp4, to 'total.mp4':\n",
      "  Metadata:\n",
      "    major_brand     : isom\n",
      "    minor_version   : 512\n",
      "    compatible_brands: isomiso2avc1mp41\n",
      "    encoder         : Lavf59.17.101\n",
      "  Stream #0:0: Video: h264 (avc1 / 0x31637661), yuv420p(progressive), 1390x576 [SAR 1:1 DAR 695:288], q=2-31, 25 fps, 12800 tbn\n",
      "    Metadata:\n",
      "      encoder         : Lavc59.20.100 libx264\n",
      "    Side data:\n",
      "      cpb: bitrate max/min/avg: 0/0/0 buffer size: 0 vbv_delay: N/A\n",
      "frame=    1 fps=0.0 q=0.0 size=       0kB time=00:00:00.00 bitrate=N/A speed=   0x    \n",
      "frame=  131 fps=0.0 q=28.0 size=     512kB time=00:00:02.64 bitrate=1588.9kbits/s speed=4.85x    \n",
      "frame=  256 fps=245 q=28.0 size=    1280kB time=00:00:07.64 bitrate=1372.5kbits/s speed=7.31x    \n",
      "frame=  393 fps=254 q=28.0 size=    2304kB time=00:00:13.12 bitrate=1438.6kbits/s speed=8.48x    \n",
      "frame=  526 fps=251 q=-1.0 Lsize=    3750kB time=00:00:20.92 bitrate=1468.6kbits/s speed=9.99x    \n",
      "video:3743kB audio:0kB subtitle:0kB other streams:0kB global headers:0kB muxing overhead: 0.185458%\n",
      "[libx264 @ 000001f911ba09c0] frame I:3     Avg QP:15.36  size: 51024\n",
      "[libx264 @ 000001f911ba09c0] frame P:141   Avg QP:23.40  size: 13371\n",
      "[libx264 @ 000001f911ba09c0] frame B:382   Avg QP:29.20  size:  4697\n",
      "[libx264 @ 000001f911ba09c0] consecutive B-frames:  0.6%  4.6%  9.7% 85.2%\n",
      "[libx264 @ 000001f911ba09c0] mb I  I16..4: 59.0% 12.4% 28.6%\n",
      "[libx264 @ 000001f911ba09c0] mb P  I16..4:  7.7%  1.0%  2.1%  P16..4: 11.0%  6.3%  3.2%  0.0%  0.0%    skip:68.7%\n",
      "[libx264 @ 000001f911ba09c0] mb B  I16..4:  1.9%  0.3%  0.2%  B16..8: 16.2%  5.5%  1.4%  direct: 0.8%  skip:73.9%  L0:45.2% L1:43.8% BI:11.0%\n",
      "[libx264 @ 000001f911ba09c0] 8x8 transform intra:10.4% inter:28.6%\n",
      "[libx264 @ 000001f911ba09c0] coded y,uvDC,uvAC intra: 13.6% 14.3% 11.1% inter: 4.4% 2.9% 2.1%\n",
      "[libx264 @ 000001f911ba09c0] i16 v,h,dc,p: 20% 79%  1%  0%\n",
      "[libx264 @ 000001f911ba09c0] i8 v,h,dc,ddl,ddr,vr,hd,vl,hu: 10% 12% 76%  0%  0%  0%  0%  0%  1%\n",
      "[libx264 @ 000001f911ba09c0] i4 v,h,dc,ddl,ddr,vr,hd,vl,hu: 23% 42% 17%  2%  3%  3%  3%  3%  4%\n",
      "[libx264 @ 000001f911ba09c0] i8c dc,h,v,p: 50% 48%  2%  0%\n",
      "[libx264 @ 000001f911ba09c0] Weighted P-Frames: Y:0.0% UV:0.0%\n",
      "[libx264 @ 000001f911ba09c0] ref P L0: 60.4%  5.0% 20.6% 13.9%\n",
      "[libx264 @ 000001f911ba09c0] ref B L0: 77.7% 16.8%  5.5%\n",
      "[libx264 @ 000001f911ba09c0] ref B L1: 91.7%  8.3%\n",
      "[libx264 @ 000001f911ba09c0] kb/s:1457.24\n"
     ]
    }
   ],
   "source": [
    "# Concat the two output files \n",
    "# make sure output file is not in directory otherwise doesnt work from notebook\n",
    "# nullsrc is output size\n",
    "# the two scales are input sizes\n",
    "# the overlay is where number 2 should start\n",
    "\n",
    "! ffmpeg -i installatie.mp4 -i bedrijf.mp4 -filter_complex \" nullsrc=size=1390x576 [base];[0:v] setpts=PTS-STARTPTS, scale=864x576 [upperleft]; [1:v] setpts=PTS-STARTPTS, scale=576x576 [upperright]; [base][upperleft] overlay=shortest=1 [tmp1]; [tmp1][upperright] overlay=x=814\" -c:v libx264 total.mp4"
   ]
  },
  {
   "cell_type": "code",
   "execution_count": null,
   "metadata": {},
   "outputs": [],
   "source": []
  }
 ],
 "metadata": {
  "interpreter": {
   "hash": "b89b5cfaba6639976dc87ff2fec6d58faec662063367e2c229c520fe71072417"
  },
  "kernelspec": {
   "display_name": "Python 3.10.0 64-bit",
   "language": "python",
   "name": "python3"
  },
  "language_info": {
   "codemirror_mode": {
    "name": "ipython",
    "version": 3
   },
   "file_extension": ".py",
   "mimetype": "text/x-python",
   "name": "python",
   "nbconvert_exporter": "python",
   "pygments_lexer": "ipython3",
   "version": "3.10.0"
  },
  "orig_nbformat": 4
 },
 "nbformat": 4,
 "nbformat_minor": 2
}
